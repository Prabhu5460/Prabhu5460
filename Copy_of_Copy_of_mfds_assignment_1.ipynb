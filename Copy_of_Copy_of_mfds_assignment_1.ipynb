{
  "nbformat": 4,
  "nbformat_minor": 0,
  "metadata": {
    "colab": {
      "name": "Copy of Copy of mfds_assignment_1.ipynb",
      "provenance": [],
      "collapsed_sections": [],
      "include_colab_link": true
    },
    "kernelspec": {
      "name": "python3",
      "display_name": "Python 3"
    },
    "language_info": {
      "name": "python"
    }
  },
  "cells": [
    {
      "cell_type": "markdown",
      "metadata": {
        "id": "view-in-github",
        "colab_type": "text"
      },
      "source": [
        "<a href=\"https://colab.research.google.com/github/Prabhu5460/Prabhu5460/blob/main/Copy_of_Copy_of_mfds_assignment_1.ipynb\" target=\"_parent\"><img src=\"https://colab.research.google.com/assets/colab-badge.svg\" alt=\"Open In Colab\"/></a>"
      ]
    },
    {
      "cell_type": "markdown",
      "metadata": {
        "id": "JhPmzl9XmSW8"
      },
      "source": [
        "This is Python Jupyter notebook for MFDS Assignment 1\n",
        "\n",
        "The references take for this work are from:\n",
        "1. https://www.codesansar.com/numerical-methods/gauss-elimination-method-python-program.htm\n",
        "2. https://www.codesansar.com/numerical-methods/python-program-gauss-seidel-iteration-method.htm\n",
        "3. https://www.codesansar.com/numerical-methods/python-program-jacobi-iteration-method.htm\n",
        "\n",
        "As a part of Assignment 1, we are given task to implement 3 methods of solving linear systems of equations. They are:\n",
        "1. Gauss Elimination\n",
        "2. Gauss Seidel Method\n",
        "3. Gauss Jacobi Method\n",
        "\n",
        "In Question 1, the Gaussian Elimination method is showcased. It takes randomly generated input matrices of size [n x (n+1)] in the form of augmented matrix. Then Forward elimination and back substitution is applied as a part of Gauss elimination method. The solution of the system is obtained via both Pivoting and Non-Pivoting way. The user can provide the significant digits required for the whole process.\n",
        "\n",
        "In Question 2, the Gauss Seidel and Jacobi methods are showcased. This takes randomly generated diagonally dominant matrices of size [3 x 4] in the form of augmented matrix. Then the convergence criteria is used to arrive at the solution obtained from the two methods."
      ]
    },
    {
      "cell_type": "markdown",
      "metadata": {
        "id": "S70FLc8TmqHW"
      },
      "source": [
        "Question 1: Write a code to perform Gauss elimination with and without pivoting for a 2 x 2 system, taking the number of signiﬁcant digits (d) to be considered as user input. Using the code, solve the 2 x 2 system with random coeﬃcients for d = 3, 4, 5 and 6."
      ]
    },
    {
      "cell_type": "code",
      "metadata": {
        "id": "LReq4kE4nPTi"
      },
      "source": [
        "import numpy as np\n",
        "import sys\n",
        "import copy\n",
        "import math\n",
        "from numpy.random import RandomState\n",
        "np.set_printoptions(suppress=True)\n",
        "random_state = RandomState(1240)"
      ],
      "execution_count": null,
      "outputs": []
    },
    {
      "cell_type": "code",
      "metadata": {
        "id": "rbfpuAoZnWy7"
      },
      "source": [
        "# Round numbers according to significant digits\n",
        "def my_round(d, x):\n",
        "\treturn d - int(math.floor(math.log10(abs(x)))) - 1"
      ],
      "execution_count": null,
      "outputs": []
    },
    {
      "cell_type": "code",
      "metadata": {
        "colab": {
          "base_uri": "https://localhost:8080/"
        },
        "id": "ZIIuutBznZHC",
        "outputId": "5f83a844-b1b0-48db-c245-bc674d12f097"
      },
      "source": [
        "# Round numbers according to significant digits\n",
        "def my_round(d, x):\n",
        "\treturn d - int(math.floor(math.log10(abs(x)))) - 1\n",
        "\n",
        "print(\"Welcome to the Gaussian Elimination method for linear systems!\")\n",
        "\n",
        "# Reading the size of linear system\n",
        "n = int(input('Enter the size of linear system: '))\n",
        "\n",
        "# Reading precision required by user\n",
        "d = int(input('Enter the precision value d: '))\n"
      ],
      "execution_count": null,
      "outputs": [
        {
          "name": "stdout",
          "output_type": "stream",
          "text": [
            "Welcome to the Gaussian Elimination method for linear systems!\n",
            "Enter the size of linear system: 2\n",
            "Enter the precision value d: 4\n"
          ]
        }
      ]
    },
    {
      "cell_type": "code",
      "metadata": {
        "colab": {
          "base_uri": "https://localhost:8080/"
        },
        "id": "FXpZzrVDnb9S",
        "outputId": "e0e6ea6b-59df-4d58-cf50-c737b3fff37d"
      },
      "source": [
        "a = 10 * random_state.rand(n, n+1)\n",
        "for i in range(n):\n",
        "\tfor j in range(n+1):\n",
        "\t\ta[i][j] = np.around(a[i][j], decimals = my_round(d, a[i][j]))\n",
        "print(a)\n",
        "\n",
        "c = copy.deepcopy(a)\n",
        "e = copy.deepcopy(a)"
      ],
      "execution_count": null,
      "outputs": [
        {
          "output_type": "stream",
          "name": "stdout",
          "text": [
            "[[1.83  2.415 9.499]\n",
            " [1.526 2.852 7.084]]\n"
          ]
        }
      ]
    },
    {
      "cell_type": "code",
      "metadata": {
        "colab": {
          "base_uri": "https://localhost:8080/"
        },
        "id": "kxrhihmangPo",
        "outputId": "400b78f6-27c4-4021-f3a8-769dd7a7a514"
      },
      "source": [
        "print(\"\\nAugmented matrix with precision set by the user:\")\n",
        "print(a)"
      ],
      "execution_count": null,
      "outputs": [
        {
          "output_type": "stream",
          "name": "stdout",
          "text": [
            "\n",
            "Augmented matrix with precision set by the user:\n",
            "[[1.83  2.415 9.499]\n",
            " [1.526 2.852 7.084]]\n"
          ]
        }
      ]
    },
    {
      "cell_type": "code",
      "metadata": {
        "id": "ziSVu_sqnyaI"
      },
      "source": [
        "def swap_rows(row_1, row_2):\n",
        "\trow_1 = row_1 - row_2\n",
        "\trow_2 = row_1 + row_2\n",
        "\trow_1 = row_2 - row_1\n",
        "\treturn row_1, row_2"
      ],
      "execution_count": null,
      "outputs": []
    },
    {
      "cell_type": "code",
      "metadata": {
        "id": "SQHLQ_oW26cg"
      },
      "source": [
        "\"\"\"\n",
        "def swap_rows_2(row_1, row_2):\n",
        "\treturn row_2, row_1\n",
        "\"\"\""
      ],
      "execution_count": null,
      "outputs": []
    },
    {
      "cell_type": "code",
      "metadata": {
        "id": "mNR28kQLn3mi"
      },
      "source": [
        "def partially_pivot(matrix):\n",
        "\t# Partially pivoting the input matrix\n",
        "\n",
        "\t# If a row except first row has larger value in first column\n",
        "\t# then swap that row with first row\n",
        "\tcolumn_1 = matrix[:,0]\n",
        "\tmax_index = np.argmax(column_1)\n",
        "\tif max_index != 0:\n",
        "\t\tmatrix[0], matrix[max_index] = swap_rows(matrix[0], matrix[max_index])\n",
        "\n",
        "\tprint(\"\\nThe pivoted matrix is:\\n\"+str(matrix)+\"\\n\")\n",
        "\t\n",
        "\t\"\"\" Below logic is to sort all rows based on first column\n",
        "\tfor i in range(n):     \n",
        "\t\tfor j in range(i+1, n):\n",
        "\t\t\tif arr1[j][0] > arr1[i][0]:\n",
        "\t\t\t\tarr1[i] = arr1[i] - arr1[j]\n",
        "\t\t\t\tarr1[j] = arr1[i] + arr1[j]\n",
        "\t\t\t\tarr1[i] = arr1[j] - arr1[i]\"\"\"\n",
        "\t\t\t\t\n",
        "\treturn matrix"
      ],
      "execution_count": null,
      "outputs": []
    },
    {
      "cell_type": "code",
      "metadata": {
        "id": "diVeQQtsn5ym"
      },
      "source": [
        "def forward_elimination(matrix, size, pivot = False):\n",
        "\tfor i in range(size):\t\n",
        "\t\tfor j in range(i+1, size):\n",
        "\t\t\tratio = matrix[j][i]/matrix[i][i]\n",
        "\t\t\tratio = round(ratio, my_round(d,ratio))\n",
        "\n",
        "\t\t\tfor k in range(size+1):\n",
        "\t\t\t\tmatrix[j][k] = matrix[j][k] - round(ratio* matrix[i][k], my_round(d,ratio* matrix[i][k]))\n",
        "\n",
        "\t\tif pivot:\n",
        "\t\t\t# Below logic executes pivoting of intermediate rows (for partial pivoting)\n",
        "\t\t\tif i+1 != size:\n",
        "\t\t\t\tcol = np.argmax(abs(matrix[i+1:, i+1]))\n",
        "\t\t\t\tmatrix[i+1], matrix[col+i+1] = swap_rows(matrix[i+1], matrix[col+i+1])\n",
        "\n",
        "\tfor k in range(size):\n",
        "\t\tfor l in range(k, size+1):\n",
        "\t\t\tmatrix[k][l] = np.around(matrix[k][l], decimals = my_round(d, matrix[k][l]))\n",
        "\n",
        "\treturn matrix"
      ],
      "execution_count": null,
      "outputs": []
    },
    {
      "cell_type": "code",
      "metadata": {
        "id": "ZkPyRPdPn-Rq"
      },
      "source": [
        "def back_substitution(y, size, arr):\n",
        "\t# Back Substitution\n",
        "\ty[size-1] = arr[size-1][size]/arr[size-1][size-1]\n",
        "\n",
        "\tfor i in range(size-2,-1,-1):\n",
        "\t\ty[i] = arr[i][size]\n",
        "\t\t\n",
        "\t\tfor j in range(i+1,size):\n",
        "\t\t\ty[i] = y[i] - round(arr[i][j]*y[j], my_round(d, arr[i][j]*y[j]))\n",
        "\t\t\n",
        "\t\ty[i] = y[i]/arr[i][i]\n",
        "\t\n",
        "\tfor i in range(size):\n",
        "\t\ty[i] = round(y[i], my_round(d, y[i]))\n",
        "\n",
        "\treturn y"
      ],
      "execution_count": null,
      "outputs": []
    },
    {
      "cell_type": "code",
      "metadata": {
        "id": "MrnAcnjGoBEQ"
      },
      "source": [
        "def print_solution(z, size, precision):\n",
        "\t# Displaying solution\n",
        "\tprint('\\nThe solution obtained from Gaussian Elimination is: ')\n",
        "\tfor i in range(n):\n",
        "\t\tprint('X{} = {}' .format(i, z[i]), end = '\\n')"
      ],
      "execution_count": null,
      "outputs": []
    },
    {
      "cell_type": "code",
      "metadata": {
        "id": "ZiGrJTKboDRq"
      },
      "source": [
        "def ge_with_pivot(aug_mat, size, precision):\n",
        "\t# Applying Gauss Elimination (With Partial Pivoting)\n",
        "\tsol = np.zeros(n)\n",
        "\tpivot_mat = partially_pivot(aug_mat) # Pivot first row\n",
        "\n",
        "\tfe_mat_piv = forward_elimination(pivot_mat, size, True)\n",
        "\t\n",
        "\tge_mat = back_substitution(sol, size, fe_mat_piv)\n",
        "\t\n",
        "\treturn ge_mat"
      ],
      "execution_count": null,
      "outputs": []
    },
    {
      "cell_type": "code",
      "metadata": {
        "id": "_5JcZCV1oGhW"
      },
      "source": [
        "def ge_without_pivot(aug_mat, size, precision):\n",
        "\t# Applying Gauss Elimination (Without Partial Pivoting)\n",
        "\t\n",
        "\t# Check validity of input to avoid divide by zero\n",
        "\tfor i in range(size):\n",
        "\t\tif aug_mat[i][i] == 0.0:\n",
        "\t\t\tsys.exit('Divide by zero detected!') \n",
        "\tsol = np.zeros(n)\n",
        "\tfe_mat_non_piv = forward_elimination(aug_mat, size)\n",
        "\t\t\n",
        "\tge_mat = back_substitution(sol, size, fe_mat_non_piv)\n",
        "\t\n",
        "\treturn ge_mat"
      ],
      "execution_count": null,
      "outputs": []
    },
    {
      "cell_type": "code",
      "metadata": {
        "colab": {
          "base_uri": "https://localhost:8080/"
        },
        "id": "xlevaKD5oKj6",
        "outputId": "606d5aca-ab5f-46f4-a8ea-a96a929e1699"
      },
      "source": [
        "sol_piv = ge_with_pivot(c, n, d)\n",
        "sol_non_piv = ge_without_pivot(e, n, d)\n",
        "\n",
        "print_solution(sol_piv, n, d)\n",
        "print_solution(sol_non_piv, n, d)"
      ],
      "execution_count": null,
      "outputs": [
        {
          "output_type": "stream",
          "text": [
            "\n",
            "The pivoted matrix is:\n",
            "[[7.073 5.964 6.676]\n",
            " [5.956 6.674 9.998]]\n",
            "\n",
            "\n",
            "The solution obtained from Gaussian Elimination is: \n",
            "X0 = -1.29\n",
            "X1 = 2.649\n",
            "\n",
            "The solution obtained from Gaussian Elimination is: \n",
            "X0 = -1.29\n",
            "X1 = 2.648\n"
          ],
          "name": "stdout"
        }
      ]
    },
    {
      "cell_type": "markdown",
      "metadata": {
        "id": "O23bjJXZnFaj"
      },
      "source": [
        "Question 2: Write a code to perform\n",
        "a) Gauss Jacobi method\n",
        "b) Gauss Seidel method\n",
        "for a 3 x 3 system by checking the convergence criteria using a suitable norm.\n",
        "Test the method on a random 3 x 3 system, which is diagonally dominant\n",
        "and check your results. A comparison between the two methods should be\n",
        "presented in tabular form. The stopping criteria could be taken as the low-\n",
        "est iteration number when the relative percentage error is less than 1%.\n",
        "\n",
        "Generate a random matrix of size 3 x 3 which cannot be made diagonally\n",
        "dominant and check if the iterates converge. The random entries generated\n",
        "should be of the form n.dddd"
      ]
    },
    {
      "cell_type": "code",
      "metadata": {
        "id": "fZUTxuCFfdeM"
      },
      "source": [
        "import numpy as np\n",
        "import sys\n",
        "import copy\n",
        "import math\n",
        "from numpy.random import RandomState\n",
        "np.set_printoptions(suppress=True)\n",
        "random_state = RandomState(1240)"
      ],
      "execution_count": null,
      "outputs": []
    },
    {
      "cell_type": "code",
      "metadata": {
        "colab": {
          "base_uri": "https://localhost:8080/"
        },
        "id": "W-jostyEk8jH",
        "outputId": "43f0d7fe-393f-4a8c-c042-789b767b6e97"
      },
      "source": [
        "diag_dom_condition = False\n",
        "\n",
        "# Generate diagonally dominant matrix\n",
        "while diag_dom_condition != True:\n",
        "\ta = 20 * random_state.rand(3, 4)\n",
        "\ta = np.around(a, decimals=4)\n",
        "\tdiag_dom_condition = (np.abs(a[0][0])>np.abs(a[0][1])+np.abs(a[0][2])) and \\\n",
        "\t(np.abs(a[1][1])>np.abs(a[1][0])+np.abs(a[1][2])) and \\\n",
        "\t(np.abs(a[2][2])>np.abs(a[2][0])+np.abs(a[2][1]))\n",
        "\n",
        "print(a)"
      ],
      "execution_count": null,
      "outputs": [
        {
          "output_type": "stream",
          "text": [
            "[[18.4714 10.7758  4.4105  5.6016]\n",
            " [ 2.4005 18.846  12.7583  5.8773]\n",
            " [ 3.8367  6.1014 13.5922 15.5535]]\n"
          ],
          "name": "stdout"
        }
      ]
    },
    {
      "cell_type": "code",
      "metadata": {
        "id": "iZ3FuX6SlDJQ"
      },
      "source": [
        "# Defining equations to be solved\n",
        "# in diagonally dominant form\n",
        "f1 = lambda x,y,z: (a[0][3]-a[0][1]*y-a[0][2]*z)/a[0][0]\n",
        "f2 = lambda x,y,z: (a[1][3]-a[1][0]*x-a[1][2]*z)/a[1][1]\n",
        "f3 = lambda x,y,z: (a[2][3]-a[2][0]*x-a[2][1]*y)/a[2][2]"
      ],
      "execution_count": null,
      "outputs": []
    },
    {
      "cell_type": "code",
      "metadata": {
        "id": "qwSdxrkflJmN"
      },
      "source": [
        "# Implement Gauss Seidal Method\n",
        "def gauss_seidal(x,y,z,e):\n",
        "\tcount = 1\n",
        "\tcondition = True\n",
        "\tprint('\\nCount\\tx\\ty\\tz\\n')\n",
        "\twhile condition:\n",
        "\t\t# In Gauss Seidal, newest available\n",
        "\t\t# values of variables are used\n",
        "\t\tx1 = round(f1(x,y,z),4)\n",
        "\t\ty1 = round(f2(x1,y,z),4)\n",
        "\t\tz1 = round(f3(x1,y1,z),4)\n",
        "\t\tprint('%d\\t%0.4f\\t%0.4f\\t%0.4f\\n' %(count, x1,y1,z1))\n",
        "\t\te1 = abs((x-x1)/x1);\n",
        "\t\te2 = abs((y-y1)/y1);\n",
        "\t\te3 = abs((z-z1)/z1);\n",
        "\n",
        "\t\tcount += 1\n",
        "\t\tx = x1\n",
        "\t\ty = y1\n",
        "\t\tz = z1\n",
        "\n",
        "\t\tcondition = e1>e and e2>e and e3>e\n",
        "\tprint('\\nSolution from Gauss Seidal Method: x=%0.4f, y=%0.4f and z = %0.4f\\n'% (x1,y1,z1))"
      ],
      "execution_count": null,
      "outputs": []
    },
    {
      "cell_type": "code",
      "metadata": {
        "id": "gRSPxFIXlSm8"
      },
      "source": [
        "# Implement Gauss Jacobi Method\n",
        "def gauss_jacobi(x,y,z,e):\n",
        "\tcount = 1\n",
        "\tcondition = True\n",
        "\tprint('\\nCount\\tx\\ty\\tz\\n')\n",
        "\twhile condition:\n",
        "\t\t# In Gauss Jacobi, values of variables\n",
        "\t\t# available from last iteration are used\n",
        "\t\tx1 = round(f1(x,y,z),4)\n",
        "\t\ty1 = round(f2(x,y,z),4)\n",
        "\t\tz1 = round(f3(x,y,z),4)\n",
        "\t\tprint('%d\\t%0.4f\\t%0.4f\\t%0.4f\\n' %(count, x1,y1,z1))\n",
        "\t\te1 = abs((x-x1)/x1);\n",
        "\t\te2 = abs((y-y1)/y1);\n",
        "\t\te3 = abs((z-z1)/z1);\n",
        "\n",
        "\t\tcount += 1\n",
        "\t\tx = x1\n",
        "\t\ty = y1\n",
        "\t\tz = z1\n",
        "\n",
        "\t\tcondition = e1>e and e2>e and e3>e\n",
        "\n",
        "\tprint('\\nSolution from Gauss Jacobi Method: x=%0.4f, y=%0.4f and z = %0.4f\\n'% (x1,y1,z1))"
      ],
      "execution_count": null,
      "outputs": []
    },
    {
      "cell_type": "code",
      "metadata": {
        "colab": {
          "base_uri": "https://localhost:8080/"
        },
        "id": "Rbzb475RlaCO",
        "outputId": "96f96c76-fd47-4f8d-ca75-222d66709008"
      },
      "source": [
        "# Initial setup\n",
        "x0 = 0\n",
        "y0 = 0\n",
        "z0 = 0\n",
        "\n",
        "# Reading tolerable error\n",
        "e = float(input('Enter tolerance value required (in %): '))/100"
      ],
      "execution_count": null,
      "outputs": [
        {
          "output_type": "stream",
          "text": [
            "Enter tolerance value required (in %): 1\n"
          ],
          "name": "stdout"
        }
      ]
    },
    {
      "cell_type": "code",
      "metadata": {
        "colab": {
          "base_uri": "https://localhost:8080/"
        },
        "id": "E5Cl6mqDlcsx",
        "outputId": "d78db465-ed50-47dd-8163-b9f2a2ed4e99"
      },
      "source": [
        "gauss_seidal(x0,y0,z0,e)\n",
        "gauss_jacobi(x0,y0,z0,e)"
      ],
      "execution_count": null,
      "outputs": [
        {
          "output_type": "stream",
          "text": [
            "\n",
            "Count\tx\ty\tz\n",
            "\n",
            "1\t0.3033\t0.2732\t0.9360\n",
            "\n",
            "2\t-0.0796\t-0.3117\t1.3067\n",
            "\n",
            "3\t0.1731\t-0.5948\t1.3624\n",
            "\n",
            "4\t0.3249\t-0.6518\t1.3452\n",
            "\n",
            "5\t0.3623\t-0.6450\t1.3316\n",
            "\n",
            "6\t0.3616\t-0.6357\t1.3276\n",
            "\n",
            "\n",
            "Solution from Gauss Seidal Method: x=0.3616, y=-0.6357 and z = 1.3276\n",
            "\n",
            "\n",
            "Count\tx\ty\tz\n",
            "\n",
            "1\t0.3033\t0.3119\t1.1443\n",
            "\n",
            "2\t-0.1519\t-0.5014\t0.9187\n",
            "\n",
            "3\t0.3764\t-0.2907\t1.4122\n",
            "\n",
            "4\t0.1356\t-0.6921\t1.1685\n",
            "\n",
            "5\t0.4280\t-0.4965\t1.4167\n",
            "\n",
            "6\t0.2546\t-0.7017\t1.2464\n",
            "\n",
            "7\t0.4150\t-0.5644\t1.3874\n",
            "\n",
            "8\t0.3012\t-0.6802\t1.2805\n",
            "\n",
            "9\t0.3943\t-0.5934\t1.3646\n",
            "\n",
            "10\t0.3236\t-0.6622\t1.2994\n",
            "\n",
            "11\t0.3793\t-0.6090\t1.3502\n",
            "\n",
            "12\t0.3361\t-0.6505\t1.3106\n",
            "\n",
            "13\t0.3698\t-0.6182\t1.3414\n",
            "\n",
            "14\t0.3436\t-0.6433\t1.3174\n",
            "\n",
            "15\t0.3640\t-0.6238\t1.3361\n",
            "\n",
            "16\t0.3481\t-0.6390\t1.3216\n",
            "\n",
            "17\t0.3605\t-0.6272\t1.3329\n",
            "\n",
            "\n",
            "Solution from Gauss Jacobi Method: x=0.3605, y=-0.6272 and z = 1.3329\n",
            "\n"
          ],
          "name": "stdout"
        }
      ]
    }
  ]
}